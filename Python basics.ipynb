{
 "cells": [
  {
   "cell_type": "markdown",
   "id": "74bb6e42",
   "metadata": {},
   "source": [
    "## 1.Entering expression in python interactive shell"
   ]
  },
  {
   "cell_type": "code",
   "execution_count": null,
   "id": "8b952721",
   "metadata": {},
   "outputs": [],
   "source": [
    "abs(-10)"
   ]
  },
  {
   "cell_type": "code",
   "execution_count": null,
   "id": "72afae2f",
   "metadata": {},
   "outputs": [],
   "source": [
    "len(\"Hello World\")"
   ]
  },
  {
   "cell_type": "code",
   "execution_count": null,
   "id": "92a36bea",
   "metadata": {},
   "outputs": [],
   "source": [
    "def add(a,b):\n",
    "    return(a+b)\n"
   ]
  },
  {
   "cell_type": "code",
   "execution_count": null,
   "id": "e11696ae",
   "metadata": {},
   "outputs": [],
   "source": [
    "add(10,20)"
   ]
  },
  {
   "cell_type": "code",
   "execution_count": null,
   "id": "e7f34cd5",
   "metadata": {},
   "outputs": [],
   "source": [
    "True and False"
   ]
  },
  {
   "cell_type": "code",
   "execution_count": null,
   "id": "d7f35175",
   "metadata": {},
   "outputs": [],
   "source": [
    "False and False"
   ]
  },
  {
   "cell_type": "code",
   "execution_count": null,
   "id": "fa7388a5",
   "metadata": {},
   "outputs": [],
   "source": [
    "not False"
   ]
  },
  {
   "cell_type": "code",
   "execution_count": null,
   "id": "25c7b598",
   "metadata": {},
   "outputs": [],
   "source": [
    "not True"
   ]
  },
  {
   "cell_type": "code",
   "execution_count": null,
   "id": "5b0afbfd",
   "metadata": {},
   "outputs": [],
   "source": [
    "x=10\n",
    "y=3.14\n",
    "name=\"John\"\n",
    "is_True=True\n",
    "fruits=[\"apple\",\"banana\",\"orange\"]\n",
    "student={\"name\":\"John\",\"age\":\"20\"}\n",
    "print(type(x))\n",
    "print(type(y))\n",
    "print(type(name))\n",
    "print(type(is_True))\n",
    "print(type(fruits))\n",
    "print(type(student))"
   ]
  },
  {
   "cell_type": "code",
   "execution_count": null,
   "id": "4ca3c097",
   "metadata": {},
   "outputs": [],
   "source": [
    "int(20.1)"
   ]
  },
  {
   "cell_type": "code",
   "execution_count": null,
   "id": "16c6c9f0",
   "metadata": {},
   "outputs": [],
   "source": [
    "str(10)"
   ]
  },
  {
   "cell_type": "code",
   "execution_count": null,
   "id": "992c769e",
   "metadata": {},
   "outputs": [],
   "source": [
    "str(20.0)"
   ]
  },
  {
   "cell_type": "code",
   "execution_count": null,
   "id": "1384c313",
   "metadata": {},
   "outputs": [],
   "source": [
    "\"soujanya\"*3"
   ]
  },
  {
   "cell_type": "code",
   "execution_count": null,
   "id": "0ce47882",
   "metadata": {},
   "outputs": [],
   "source": [
    "greeting=\"Hello\"\n",
    "name=\"John\"\n",
    "message=greeting+\" \"+name\n",
    "print(message)\n",
    "\n"
   ]
  },
  {
   "cell_type": "code",
   "execution_count": null,
   "id": "7e98eded",
   "metadata": {},
   "outputs": [],
   "source": [
    "fruit=\"apple\"\n",
    "repeated_fruit=fruit*3\n",
    "print(repeated_fruit)"
   ]
  },
  {
   "cell_type": "code",
   "execution_count": null,
   "id": "d8fe1902",
   "metadata": {},
   "outputs": [],
   "source": [
    "\"SDMIT UJIRE.\"*6"
   ]
  },
  {
   "cell_type": "code",
   "execution_count": null,
   "id": "f43d6f01",
   "metadata": {},
   "outputs": [],
   "source": [
    "word=\"Hi\"\n",
    "punctuation=\"!\"\n",
    "greeting=(word+punctuation)*3\n",
    "print(greeting)\n"
   ]
  },
  {
   "cell_type": "code",
   "execution_count": null,
   "id": "10edb79d",
   "metadata": {},
   "outputs": [],
   "source": [
    "num1=float(input(\"Enter the first number:\"))\n",
    "num2=float(input(\"Enter the second number:\"))\n",
    "sum_result=num1+num2\n",
    "product_result=num1*num2\n",
    "division_result=num1/num2\n",
    "multiplication_result=num1*num2\n",
    "modulus_result=num1%num2\n",
    "print(\"Sum:\",sum_result)\n",
    "print(\"Product:\",product_result)\n",
    "print(\"Division:\",division_result)\n",
    "print(\"Multiplication:\",multiplication_result)\n",
    "print(\"Modulus:\",modulus_result)"
   ]
  },
  {
   "cell_type": "code",
   "execution_count": null,
   "id": "47196b8b",
   "metadata": {},
   "outputs": [],
   "source": [
    "number=int(input(\"Enter a number:\"))\n",
    "if number%2==0:\n",
    "    print(number,\"is even.\")\n",
    "else:\n",
    "    print(number,\"is odd.\")"
   ]
  },
  {
   "cell_type": "code",
   "execution_count": null,
   "id": "1683e485",
   "metadata": {},
   "outputs": [],
   "source": [
    "celsius=float(input(\"Enter temperature in celsius:\"))\n",
    "fahrenheit=(celsius*9/5)+32\n",
    "print(fahrenheit)"
   ]
  },
  {
   "cell_type": "code",
   "execution_count": null,
   "id": "f26a1952",
   "metadata": {},
   "outputs": [],
   "source": [
    "number=int(input(\"Enter a number\"))\n",
    "factorial=1\n",
    "if number<0:\n",
    "    print(\"Factorial cannot be calculated for negative numbers.\")\n",
    "elif number==0:\n",
    "    print(\"The factorial of 0 is 1\")\n",
    "else:\n",
    "    for i in range(1,number+1):\n",
    "        factorial*=i\n",
    "print(\"The factorial of\",number,\"is\",factorial)"
   ]
  },
  {
   "cell_type": "code",
   "execution_count": null,
   "id": "f2c40d48",
   "metadata": {},
   "outputs": [],
   "source": [
    "base=float(input(\"The base of the triangle:\"))\n",
    "height=float(input(\"The height of the triangle:\"))\n",
    "area=base*height/2\n",
    "print(\"The area of the triangle is\",area)"
   ]
  },
  {
   "cell_type": "code",
   "execution_count": null,
   "id": "db6b787a",
   "metadata": {},
   "outputs": [],
   "source": [
    "principal=float(input(\"Enter the principal amount:\"))\n",
    "rate=float(input(\"Enter the rate:\"))\n",
    "time=float(input(\"Enter the time:\"))\n",
    "interest=(principal*rate*time)/100\n",
    "print(interest)"
   ]
  },
  {
   "cell_type": "code",
   "execution_count": null,
   "id": "9e849dc5",
   "metadata": {},
   "outputs": [],
   "source": [
    "num1=float(input(\"Enter the first number:\"))\n",
    "num2=float(input(\"Enter the second number:\"))\n",
    "temp=num1\n",
    "num1=num2\n",
    "num2=temp\n",
    "print(\"After swapping:\")\n",
    "print(\"First number:\",num1)\n",
    "print(\"Second number:\",num2)"
   ]
  },
  {
   "cell_type": "code",
   "execution_count": 1,
   "id": "b73c0b51",
   "metadata": {},
   "outputs": [
    {
     "name": "stdout",
     "output_type": "stream",
     "text": [
      "Enter the first number:3\n",
      "Enter the second number:6\n",
      "After swapping:\n",
      "First number: 6.0\n",
      "Second number: 3.0\n"
     ]
    }
   ],
   "source": [
    "num1=float(input(\"Enter the first number:\"))\n",
    "num2=float(input(\"Enter the second number:\"))\n",
    "num1=num1+num2\n",
    "num2=num1-num2\n",
    "num1=num1-num2\n",
    "print(\"After swapping:\")\n",
    "print(\"First number:\",num1)\n",
    "print(\"Second number:\",num2)\n"
   ]
  },
  {
   "cell_type": "code",
   "execution_count": 2,
   "id": "9673fba5",
   "metadata": {},
   "outputs": [
    {
     "name": "stdout",
     "output_type": "stream",
     "text": [
      "Enter the first number:3\n",
      "Enter the second number:5\n",
      "After swapping:\n",
      "First number: 5.0\n",
      "Second number: 3.0\n"
     ]
    }
   ],
   "source": [
    "num1=float(input(\"Enter the first number:\"))\n",
    "num2=float(input(\"Enter the second number:\"))\n",
    "num1,num2=num2,num1\n",
    "print(\"After swapping:\")\n",
    "print(\"First number:\",num1)\n",
    "print(\"Second number:\",num2)\n"
   ]
  },
  {
   "cell_type": "code",
   "execution_count": 3,
   "id": "0e2c1a06",
   "metadata": {},
   "outputs": [
    {
     "name": "stdout",
     "output_type": "stream",
     "text": [
      "Enter a positive integer:2\n",
      "The sum of the first 2 natural number is: 3\n"
     ]
    }
   ],
   "source": [
    "n=int(input(\"Enter a positive integer:\"))\n",
    "sum_natural=(n*(n+1))//2\n",
    "print(\"The sum of the first\",n,\"natural number is:\",sum_natural)\n"
   ]
  },
  {
   "cell_type": "code",
   "execution_count": 4,
   "id": "e7a341f2",
   "metadata": {},
   "outputs": [
    {
     "name": "stdout",
     "output_type": "stream",
     "text": [
      "Enter a positive integer:6\n",
      "The sum of the first 6 natural number is: 21\n"
     ]
    }
   ],
   "source": [
    "n=int(input(\"Enter a positive integer:\"))\n",
    "sum_natural_numbers=0\n",
    "count=1\n",
    "while count<=n:\n",
    "    sum_natural_numbers+=count\n",
    "    count+=1\n",
    "print(\"The sum of the first\",n,\"natural number is:\",sum_natural_numbers)\n"
   ]
  },
  {
   "cell_type": "code",
   "execution_count": 5,
   "id": "15fe56c2",
   "metadata": {},
   "outputs": [
    {
     "name": "stdout",
     "output_type": "stream",
     "text": [
      "Enter a positive integer:8\n",
      "The sum of the first 8 natural number is: 36\n"
     ]
    }
   ],
   "source": [
    "n=int(input(\"Enter a positive integer:\"))\n",
    "sum_natural_numbers=0\n",
    "for i in range(1,n+1):\n",
    "    sum_natural_numbers+=i\n",
    "print(\"The sum of the first\",n,\"natural number is:\",sum_natural_numbers)\n"
   ]
  },
  {
   "cell_type": "code",
   "execution_count": null,
   "id": "143ecb1b",
   "metadata": {},
   "outputs": [],
   "source": []
  },
  {
   "cell_type": "code",
   "execution_count": null,
   "id": "d4b40c3c",
   "metadata": {},
   "outputs": [],
   "source": []
  }
 ],
 "metadata": {
  "kernelspec": {
   "display_name": "Python 3 (ipykernel)",
   "language": "python",
   "name": "python3"
  },
  "language_info": {
   "codemirror_mode": {
    "name": "ipython",
    "version": 3
   },
   "file_extension": ".py",
   "mimetype": "text/x-python",
   "name": "python",
   "nbconvert_exporter": "python",
   "pygments_lexer": "ipython3",
   "version": "3.9.13"
  }
 },
 "nbformat": 4,
 "nbformat_minor": 5
}
